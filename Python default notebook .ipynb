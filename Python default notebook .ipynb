{
    "cells": [
        {
            "metadata": {
                "collapsed": true
            },
            "cell_type": "markdown",
            "source": "# My Jupyter Notebook on IBM Watson Studio"
        },
        {
            "metadata": {},
            "cell_type": "markdown",
            "source": "**Muhammad Asad Qureshi**\n<p>Product Designer/Creative Lead</p>  "
        },
        {
            "metadata": {},
            "cell_type": "markdown",
            "source": "<em>As a product designer, i want to move one or few steps ahead through data science, so that i can have a broader view of requirements and can produce mmore effecient user experiences for E-commerece industry </em>"
        },
        {
            "metadata": {},
            "cell_type": "markdown",
            "source": "### Print \"Hello World\" Text ###"
        },
        {
            "metadata": {},
            "cell_type": "code",
            "source": "print(\"Hello World\")",
            "execution_count": 15,
            "outputs": [
                {
                    "output_type": "stream",
                    "text": "Hello World\n",
                    "name": "stdout"
                }
            ]
        },
        {
            "metadata": {},
            "cell_type": "markdown",
            "source": "[Hello, I am Asad Qureshi](https://spark.adobe.com/page/3vuTxB59KiHQj/)\n\nYes, I DO Bookcovers Too... \n![alt text](https://spark.adobe.com/page/kqgVQXsRanwuJ/images/de997b3e-0c55-4df4-b490-c7e2f221fea9?asset_id=0405067a-aba2-443f-bc46-69ce76e25c7d&img_etag=%2245021d3079846f45aff11ec974786a93%22&size=2560 \"My Little KDPs\")\n\n***\n\n<Strong>What Else I DO</Strong>\n> Product Designing <br>\n> Project Management<br>\n> Art Direction<br>\n\n***\n\nVar1 | Var2 | Var3\n--- | --- | ---\n**Name** | **Age** | **Work**\nAsad | 40 | Product Designer"
        },
        {
            "metadata": {},
            "cell_type": "code",
            "source": "",
            "execution_count": null,
            "outputs": []
        }
    ],
    "metadata": {
        "kernelspec": {
            "name": "python3",
            "display_name": "Python 3.6",
            "language": "python"
        },
        "language_info": {
            "name": "python",
            "version": "3.6.9",
            "mimetype": "text/x-python",
            "codemirror_mode": {
                "name": "ipython",
                "version": 3
            },
            "pygments_lexer": "ipython3",
            "nbconvert_exporter": "python",
            "file_extension": ".py"
        }
    },
    "nbformat": 4,
    "nbformat_minor": 1
}